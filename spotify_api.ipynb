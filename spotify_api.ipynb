{
 "cells": [
  {
   "cell_type": "markdown",
   "metadata": {},
   "source": [
    "##### Import relevant libraries/modules and get access token"
   ]
  },
  {
   "cell_type": "code",
   "execution_count": 26,
   "metadata": {},
   "outputs": [],
   "source": [
    "import pandas as pd\n",
    "import numpy as np\n",
    "from get_api_data import *"
   ]
  },
  {
   "cell_type": "code",
   "execution_count": 27,
   "metadata": {},
   "outputs": [],
   "source": [
    "access_token_header = get_access_token(AUTH_URL, CLIENT_ID, CLIENT_SECRET)"
   ]
  },
  {
   "cell_type": "code",
   "execution_count": 28,
   "metadata": {},
   "outputs": [],
   "source": [
    "# playlist_id = '1ulFK6boXuJRlRy5kH0pEX'\n",
    "playlist_id = '03KGgbv2VfJ8vJAqt6TfPw'\n"
   ]
  },
  {
   "cell_type": "markdown",
   "metadata": {},
   "source": [
    "##### Get playlist data (i.e. all tracks from playlist)"
   ]
  },
  {
   "cell_type": "code",
   "execution_count": 29,
   "metadata": {},
   "outputs": [],
   "source": [
    "# First call to get playlist information\n",
    "playlist_response = playlist_tracks_endpoint(playlist_id, access_token_header)"
   ]
  },
  {
   "cell_type": "code",
   "execution_count": 30,
   "metadata": {},
   "outputs": [],
   "source": [
    "# If playlist has more than 100 songs, more calls will be necessary\n",
    "all_responses = [playlist_response]\n",
    "\n",
    "next_page = playlist_response['next']\n",
    "while next_page is not None:\n",
    "    offset_response = general_endpoint(next_page, access_token_header)\n",
    "    all_responses.append(offset_response)\n",
    "    next_page = offset_response['next']"
   ]
  },
  {
   "cell_type": "markdown",
   "metadata": {},
   "source": [
    "##### Create dataframe with only relevant info from API call(s)"
   ]
  },
  {
   "cell_type": "code",
   "execution_count": 31,
   "metadata": {},
   "outputs": [
    {
     "data": {
      "text/html": [
       "<div>\n",
       "<style scoped>\n",
       "    .dataframe tbody tr th:only-of-type {\n",
       "        vertical-align: middle;\n",
       "    }\n",
       "\n",
       "    .dataframe tbody tr th {\n",
       "        vertical-align: top;\n",
       "    }\n",
       "\n",
       "    .dataframe thead th {\n",
       "        text-align: right;\n",
       "    }\n",
       "</style>\n",
       "<table border=\"1\" class=\"dataframe\">\n",
       "  <thead>\n",
       "    <tr style=\"text-align: right;\">\n",
       "      <th></th>\n",
       "      <th>artists</th>\n",
       "      <th>name</th>\n",
       "    </tr>\n",
       "  </thead>\n",
       "  <tbody>\n",
       "    <tr>\n",
       "      <th>2VUo8O3ymKRYNgj97ZG2kM</th>\n",
       "      <td>[The Dave Brubeck Quartet]</td>\n",
       "      <td>Unsquare Dance</td>\n",
       "    </tr>\n",
       "  </tbody>\n",
       "</table>\n",
       "</div>"
      ],
      "text/plain": [
       "                                           artists            name\n",
       "2VUo8O3ymKRYNgj97ZG2kM  [The Dave Brubeck Quartet]  Unsquare Dance"
      ]
     },
     "execution_count": 31,
     "metadata": {},
     "output_type": "execute_result"
    }
   ],
   "source": [
    "all_tracks_df = pd.DataFrame()\n",
    "\n",
    "for response in all_responses:\n",
    "    tracks = response['items']\n",
    "    cleaned_tracks = {}\n",
    "\n",
    "    for track in tracks:\n",
    "        track_id = track['track']['id']\n",
    "        track_name = track['track']['name']\n",
    "        track_artists = [artist['name'] for artist in track['track']['artists']]\n",
    "\n",
    "        cleaned_tracks[track_id] = {'artists': track_artists, 'name': track_name}\n",
    "\n",
    "    track_df = pd.DataFrame.from_dict(cleaned_tracks, orient='index')\n",
    "    all_tracks_df = pd.concat([all_tracks_df, track_df])\n",
    "\n",
    "all_tracks_df.tail()"
   ]
  },
  {
   "cell_type": "markdown",
   "metadata": {},
   "source": [
    "##### Ensuring dataframe is correct"
   ]
  },
  {
   "cell_type": "code",
   "execution_count": 32,
   "metadata": {},
   "outputs": [
    {
     "data": {
      "text/plain": [
       "True"
      ]
     },
     "execution_count": 32,
     "metadata": {},
     "output_type": "execute_result"
    }
   ],
   "source": [
    "# Checking length of tracks (imported from API) matches that of the dataframe\n",
    "all_tracks_df.shape[0] == playlist_response['total']"
   ]
  },
  {
   "cell_type": "markdown",
   "metadata": {},
   "source": [
    "##### Create string of ids to query Audio Features"
   ]
  },
  {
   "cell_type": "code",
   "execution_count": 33,
   "metadata": {},
   "outputs": [],
   "source": [
    "track_ids = all_tracks_df.index\n",
    "\n",
    "def prepare_ids_for_query(ids, max_len=100):\n",
    "    track_ids = np.array(ids)\n",
    "    split_ids = []\n",
    "    # If there are more than 100 tracks in the playlist\n",
    "    while len(track_ids) > max_len:\n",
    "        # Create a string of comma-delimited ids and add this to a list\n",
    "        split_ids.append(\",\".join(track_ids[:max_len]))\n",
    "        # Move on to next section of ids\n",
    "        track_ids = np.delete(track_ids, np.s_[:max_len])\n",
    "    # Add any remaining tracks (or add all tracks if number of tracks are sub 100)\n",
    "    split_ids.append(\",\".join(track_ids))\n",
    "    return split_ids\n",
    "\n",
    "ids_list = prepare_ids_for_query(track_ids)"
   ]
  },
  {
   "cell_type": "markdown",
   "metadata": {},
   "source": [
    "##### Checking ids have been formatted correctly"
   ]
  },
  {
   "cell_type": "code",
   "execution_count": 34,
   "metadata": {},
   "outputs": [
    {
     "data": {
      "text/plain": [
       "True"
      ]
     },
     "execution_count": 34,
     "metadata": {},
     "output_type": "execute_result"
    }
   ],
   "source": [
    "# Checking length of last group matches total length minus sum of all other groups\n",
    "len(ids_list[-1].split(\",\")) == playlist_response['total'] - sum([len(ids.split(\",\")) for ids in ids_list[:-1]])"
   ]
  },
  {
   "cell_type": "markdown",
   "metadata": {},
   "source": [
    "##### Get audio features data for all tracks in playlist"
   ]
  },
  {
   "cell_type": "code",
   "execution_count": 35,
   "metadata": {},
   "outputs": [],
   "source": [
    "all_audio_features_list = [multiple_audio_features_endpoint(ids, access_token_header) for ids in ids_list]"
   ]
  },
  {
   "cell_type": "markdown",
   "metadata": {},
   "source": [
    "##### Create dataframe of audio features"
   ]
  },
  {
   "cell_type": "code",
   "execution_count": 36,
   "metadata": {},
   "outputs": [
    {
     "data": {
      "text/html": [
       "<div>\n",
       "<style scoped>\n",
       "    .dataframe tbody tr th:only-of-type {\n",
       "        vertical-align: middle;\n",
       "    }\n",
       "\n",
       "    .dataframe tbody tr th {\n",
       "        vertical-align: top;\n",
       "    }\n",
       "\n",
       "    .dataframe thead th {\n",
       "        text-align: right;\n",
       "    }\n",
       "</style>\n",
       "<table border=\"1\" class=\"dataframe\">\n",
       "  <thead>\n",
       "    <tr style=\"text-align: right;\">\n",
       "      <th></th>\n",
       "      <th>danceability</th>\n",
       "      <th>energy</th>\n",
       "      <th>key</th>\n",
       "      <th>loudness</th>\n",
       "      <th>mode</th>\n",
       "      <th>speechiness</th>\n",
       "      <th>acousticness</th>\n",
       "      <th>instrumentalness</th>\n",
       "      <th>liveness</th>\n",
       "      <th>valence</th>\n",
       "      <th>tempo</th>\n",
       "      <th>duration_ms</th>\n",
       "      <th>time_signature</th>\n",
       "    </tr>\n",
       "  </thead>\n",
       "  <tbody>\n",
       "    <tr>\n",
       "      <th>2VUo8O3ymKRYNgj97ZG2kM</th>\n",
       "      <td>0.65</td>\n",
       "      <td>0.496</td>\n",
       "      <td>7</td>\n",
       "      <td>-13.869</td>\n",
       "      <td>1</td>\n",
       "      <td>0.115</td>\n",
       "      <td>0.0723</td>\n",
       "      <td>0.88</td>\n",
       "      <td>0.119</td>\n",
       "      <td>0.615</td>\n",
       "      <td>116.868</td>\n",
       "      <td>119867</td>\n",
       "      <td>4</td>\n",
       "    </tr>\n",
       "  </tbody>\n",
       "</table>\n",
       "</div>"
      ],
      "text/plain": [
       "                        danceability  energy  key  loudness  mode  \\\n",
       "2VUo8O3ymKRYNgj97ZG2kM          0.65   0.496    7   -13.869     1   \n",
       "\n",
       "                        speechiness  acousticness  instrumentalness  liveness  \\\n",
       "2VUo8O3ymKRYNgj97ZG2kM        0.115        0.0723              0.88     0.119   \n",
       "\n",
       "                        valence    tempo  duration_ms  time_signature  \n",
       "2VUo8O3ymKRYNgj97ZG2kM    0.615  116.868       119867               4  "
      ]
     },
     "execution_count": 36,
     "metadata": {},
     "output_type": "execute_result"
    }
   ],
   "source": [
    "all_audio_features_df = pd.DataFrame()\n",
    "\n",
    "# For each length-100 grouping of tracks\n",
    "for tracks_features in all_audio_features_list:\n",
    "    audios_features = tracks_features['audio_features']\n",
    "    ids = [data['id'] for data in audios_features]\n",
    "    features_df = pd.DataFrame(audios_features, index=ids)\n",
    "    # Drop irrelevant columns\n",
    "    features_df.drop(['type', 'id', 'uri', 'track_href', 'analysis_url'], axis=1, inplace=True)\n",
    "    all_audio_features_df = pd.concat([all_audio_features_df, features_df])\n",
    "\n",
    "all_audio_features_df.tail()"
   ]
  },
  {
   "cell_type": "markdown",
   "metadata": {},
   "source": [
    "##### Merge dataframes together"
   ]
  },
  {
   "cell_type": "code",
   "execution_count": 37,
   "metadata": {},
   "outputs": [
    {
     "data": {
      "text/html": [
       "<div>\n",
       "<style scoped>\n",
       "    .dataframe tbody tr th:only-of-type {\n",
       "        vertical-align: middle;\n",
       "    }\n",
       "\n",
       "    .dataframe tbody tr th {\n",
       "        vertical-align: top;\n",
       "    }\n",
       "\n",
       "    .dataframe thead th {\n",
       "        text-align: right;\n",
       "    }\n",
       "</style>\n",
       "<table border=\"1\" class=\"dataframe\">\n",
       "  <thead>\n",
       "    <tr style=\"text-align: right;\">\n",
       "      <th></th>\n",
       "      <th>artists</th>\n",
       "      <th>name</th>\n",
       "      <th>danceability</th>\n",
       "      <th>energy</th>\n",
       "      <th>key</th>\n",
       "      <th>loudness</th>\n",
       "      <th>mode</th>\n",
       "      <th>speechiness</th>\n",
       "      <th>acousticness</th>\n",
       "      <th>instrumentalness</th>\n",
       "      <th>liveness</th>\n",
       "      <th>valence</th>\n",
       "      <th>tempo</th>\n",
       "      <th>duration_ms</th>\n",
       "      <th>time_signature</th>\n",
       "    </tr>\n",
       "  </thead>\n",
       "  <tbody>\n",
       "    <tr>\n",
       "      <th>2VUo8O3ymKRYNgj97ZG2kM</th>\n",
       "      <td>[The Dave Brubeck Quartet]</td>\n",
       "      <td>Unsquare Dance</td>\n",
       "      <td>0.65</td>\n",
       "      <td>0.496</td>\n",
       "      <td>7</td>\n",
       "      <td>-13.869</td>\n",
       "      <td>1</td>\n",
       "      <td>0.115</td>\n",
       "      <td>0.0723</td>\n",
       "      <td>0.88</td>\n",
       "      <td>0.119</td>\n",
       "      <td>0.615</td>\n",
       "      <td>116.868</td>\n",
       "      <td>119867</td>\n",
       "      <td>4</td>\n",
       "    </tr>\n",
       "  </tbody>\n",
       "</table>\n",
       "</div>"
      ],
      "text/plain": [
       "                                           artists            name  \\\n",
       "2VUo8O3ymKRYNgj97ZG2kM  [The Dave Brubeck Quartet]  Unsquare Dance   \n",
       "\n",
       "                        danceability  energy  key  loudness  mode  \\\n",
       "2VUo8O3ymKRYNgj97ZG2kM          0.65   0.496    7   -13.869     1   \n",
       "\n",
       "                        speechiness  acousticness  instrumentalness  liveness  \\\n",
       "2VUo8O3ymKRYNgj97ZG2kM        0.115        0.0723              0.88     0.119   \n",
       "\n",
       "                        valence    tempo  duration_ms  time_signature  \n",
       "2VUo8O3ymKRYNgj97ZG2kM    0.615  116.868       119867               4  "
      ]
     },
     "execution_count": 37,
     "metadata": {},
     "output_type": "execute_result"
    }
   ],
   "source": [
    "tracks_with_features = pd.merge(all_tracks_df, all_audio_features_df, left_index=True, right_index=True)\n",
    "\n",
    "tracks_with_features"
   ]
  }
 ],
 "metadata": {
  "interpreter": {
   "hash": "668af1aab44b66b2d111c1c5395a129b758588cd0612ea6485919b2fa9ee3a8d"
  },
  "kernelspec": {
   "display_name": "Python 3.10.0 64-bit",
   "language": "python",
   "name": "python3"
  },
  "language_info": {
   "codemirror_mode": {
    "name": "ipython",
    "version": 3
   },
   "file_extension": ".py",
   "mimetype": "text/x-python",
   "name": "python",
   "nbconvert_exporter": "python",
   "pygments_lexer": "ipython3",
   "version": "3.10.0"
  },
  "orig_nbformat": 4
 },
 "nbformat": 4,
 "nbformat_minor": 2
}
